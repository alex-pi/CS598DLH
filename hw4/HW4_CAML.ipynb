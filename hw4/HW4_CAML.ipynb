{
 "cells": [
  {
   "cell_type": "markdown",
   "metadata": {
    "deletable": false,
    "editable": false,
    "nbgrader": {
     "cell_type": "markdown",
     "checksum": "f129ce4dc6dff93fa89a82ef9d3d81ae",
     "grade": false,
     "grade_id": "cell-043b3834e2251c57",
     "locked": true,
     "schema_version": 3,
     "solution": false,
     "task": false
    }
   },
   "source": [
    "# HW4 CAML\n",
    "\n",
    "## Overview\n",
    "\n",
    "In this question, we will implement Convolutional Attention for Multi-Label classification (CAML) proposed by Mullenbach et al. in the paper \"[Explainable Prediction of Medical Codes from Clinical Text](https://www.aclweb.org/anthology/N18-1100/)\".\n",
    "\n",
    "Clinical notes are text documents that are created by clinicians for each patient encounter. They are typically accompanied by medical codes, which describe the diagnosis and treatment. Annotating these codes is labor intensive and error prone; furthermore, the connection between the codes and the text is not annotated, obscuring the reasons and details behind specific diagnoses and treatments. Thus, let us implement CAML, an attentional convolutional network to predict medical codes from clinical text.\n",
    "\n",
    "<img src='img/clinical notes.png'>\n",
    "\n",
    "Image courtsey: [link](https://www.aclweb.org/anthology/2020.acl-demos.33/)"
   ]
  },
  {
   "cell_type": "markdown",
   "metadata": {
    "deletable": false,
    "editable": false,
    "nbgrader": {
     "cell_type": "markdown",
     "checksum": "bb7b004e4bfb12f0bfad7e99ed215486",
     "grade": false,
     "grade_id": "cell-9b8545858500e08b",
     "locked": true,
     "schema_version": 3,
     "solution": false,
     "task": false
    }
   },
   "source": [
    "---"
   ]
  },
  {
   "cell_type": "code",
   "execution_count": 1,
   "metadata": {
    "ExecuteTime": {
     "end_time": "2022-03-07T04:10:41.727486Z",
     "start_time": "2022-03-07T04:10:40.793841Z"
    },
    "deletable": false,
    "editable": false,
    "nbgrader": {
     "cell_type": "code",
     "checksum": "f27c0b891ed74f0c23c9da79a1d1f45e",
     "grade": false,
     "grade_id": "cell-d317e8882b4c1ee4",
     "locked": true,
     "schema_version": 3,
     "solution": false,
     "task": false
    }
   },
   "outputs": [],
   "source": [
    "import os\n",
    "import csv\n",
    "import pickle\n",
    "import random\n",
    "import numpy as np\n",
    "import torch\n",
    "import torch.nn as nn\n",
    "import torch.nn.functional as F\n",
    "import pandas as pd"
   ]
  },
  {
   "cell_type": "code",
   "execution_count": 2,
   "metadata": {
    "ExecuteTime": {
     "end_time": "2022-03-07T04:10:41.734112Z",
     "start_time": "2022-03-07T04:10:41.729283Z"
    },
    "deletable": false,
    "editable": false,
    "nbgrader": {
     "cell_type": "code",
     "checksum": "5bb7c0ca4325732bcb881beefccc24e1",
     "grade": false,
     "grade_id": "cell-b9db8392c257c4bc",
     "locked": true,
     "schema_version": 3,
     "solution": false,
     "task": false
    }
   },
   "outputs": [],
   "source": [
    "# set seed\n",
    "seed = 24\n",
    "random.seed(seed)\n",
    "np.random.seed(seed)\n",
    "torch.manual_seed(seed)\n",
    "os.environ[\"PYTHONHASHSEED\"] = str(seed)\n",
    "\n",
    "# Define data path\n",
    "DATA_PATH = \"./HW4_CAML-lib/data/\""
   ]
  },
  {
   "cell_type": "markdown",
   "metadata": {
    "deletable": false,
    "editable": false,
    "nbgrader": {
     "cell_type": "markdown",
     "checksum": "999c7d2df4615b24341607d6d4395ecd",
     "grade": false,
     "grade_id": "cell-cec321cdee1c5804",
     "locked": true,
     "schema_version": 3,
     "solution": false,
     "task": false
    }
   },
   "source": [
    "---"
   ]
  },
  {
   "cell_type": "markdown",
   "metadata": {
    "deletable": false,
    "editable": false,
    "nbgrader": {
     "cell_type": "markdown",
     "checksum": "d21db1ebe2daf50f879b80482ba1b0da",
     "grade": false,
     "grade_id": "cell-ed20c59c4389146e",
     "locked": true,
     "schema_version": 3,
     "solution": false,
     "task": false
    }
   },
   "source": [
    "## Dataset\n",
    "\n",
    "For this question, we will be using the Indiana University Chest X-Ray dataset. The goal is to predict diseases using chest x-ray reports.\n",
    "\n",
    "Navigate to the data folder `DATA_PATH`, there are several files:\n",
    "\n",
    "- `train_df.csv`, `test_df.csv`: these two files contains the data used for training and testing.\n",
    "    - `Report ID` refers to a unique chest x-ray report.\n",
    "    - `Text` refers to the clinical report text.\n",
    "    - `Label` refers to the diseases.\n",
    "- `vocab.csv`: this file contains the vocabularies used in the clinical text."
   ]
  },
  {
   "cell_type": "code",
   "execution_count": 2,
   "metadata": {
    "ExecuteTime": {
     "end_time": "2022-03-07T04:10:41.868772Z",
     "start_time": "2022-03-07T04:10:41.737861Z"
    },
    "deletable": false,
    "editable": false,
    "nbgrader": {
     "cell_type": "code",
     "checksum": "8069ef13706d0efc8b86144841c36941",
     "grade": false,
     "grade_id": "cell-aacbcf078a2057e2",
     "locked": true,
     "schema_version": 3,
     "solution": false,
     "task": false
    }
   },
   "outputs": [],
   "source": []
  },
  {
   "cell_type": "markdown",
   "metadata": {
    "deletable": false,
    "editable": false,
    "nbgrader": {
     "cell_type": "markdown",
     "checksum": "47909972702bad3a17e6659c771ba238",
     "grade": false,
     "grade_id": "cell-178f03544d45359a",
     "locked": true,
     "schema_version": 3,
     "solution": false,
     "task": false
    }
   },
   "source": [
    "For example, the first chest x-ray report in `train_df.csv` has:\n",
    "- `Report ID`: 1\n",
    "- `Text`: the cardiac silhouette and mediastinum size are within normal limits . there is no pulmonary edema . there is no focal consolidation . there are no xxxx of a pleural effusion . there is no evidence of pneumothorax . normal chest xxxxx .\n",
    "- `Label`: [1, 0, 0, 0, 0, 0, 0, 0, 0, 0, 0, 0, 0, 0, 0, 0, 0, 0, 0, 0]\n",
    "\n",
    "where label is a multi-hot vector representing the following diseases:\n",
    "```\n",
    "normal\n",
    "cardiomegaly\n",
    "scoliosis / degenerative\n",
    "fractures bone\n",
    "pleural effusion\n",
    "thickening\n",
    "pneumothorax\n",
    "hernia hiatal\n",
    "calcinosis\n",
    "emphysema / pulmonary emphysema\n",
    "pneumonia / infiltrate / consolidation\n",
    "pulmonary edema\n",
    "pulmonary atelectasis\n",
    "cicatrix\n",
    "opacity\n",
    "nodule / mass\n",
    "airspace disease\n",
    "hypoinflation / hyperdistention\n",
    "catheters indwelling / surgical instruments / tube inserted / medical device\n",
    "other\n",
    "```\n",
    "\n",
    "So this report 1 is labeled as \"normal\"."
   ]
  },
  {
   "cell_type": "markdown",
   "metadata": {
    "deletable": false,
    "editable": false,
    "nbgrader": {
     "cell_type": "markdown",
     "checksum": "4d9e719c9ef77b7402d87b2419b35a6d",
     "grade": false,
     "grade_id": "cell-b630758f18c9255c",
     "locked": true,
     "schema_version": 3,
     "solution": false,
     "task": false
    }
   },
   "source": [
    "## 1 Prepare the Dataset [30 points]"
   ]
  },
  {
   "cell_type": "markdown",
   "metadata": {
    "deletable": false,
    "editable": false,
    "nbgrader": {
     "cell_type": "markdown",
     "checksum": "f25328a435acf4f2203b444168e7fc88",
     "grade": false,
     "grade_id": "cell-596f4a6bda1cba51",
     "locked": true,
     "schema_version": 3,
     "solution": false,
     "task": false
    }
   },
   "source": [
    "### 1.1 Helper Functions [10 points]\n",
    "\n",
    "To begin, weith, let us first implement some helper functions we will use later."
   ]
  },
  {
   "cell_type": "code",
   "execution_count": 3,
   "metadata": {
    "ExecuteTime": {
     "end_time": "2022-03-07T04:10:41.875879Z",
     "start_time": "2022-03-07T04:10:41.870976Z"
    },
    "deletable": false
   },
   "outputs": [],
   "source": [
    "def to_index(sequence, token2idx):\n",
    "    \"\"\"\n",
    "    TODO: convert the sequnce of tokens to indices. \n",
    "    If the word in unknown, then map it to '<unk>'.\n",
    "    \n",
    "    INPUT:\n",
    "        sequence (type: list of str): a sequence of tokens\n",
    "        token2idx (type: dict): a dictionary mapping token to the corresponding index\n",
    "    \n",
    "    OUTPUT:\n",
    "        indices (type: list of int): a sequence of indicies\n",
    "        \n",
    "    EXAMPLE:\n",
    "        >>> sequence = ['hello', 'world', 'unknown_word']\n",
    "        >>> token2idx = {'hello': 0, 'world': 1, '<unk>': 2}\n",
    "        >>> to_index(sequence, token2idx)\n",
    "        [0, 1, 2]\n",
    "    \"\"\"\n",
    "    # your code here\n",
    "    return [token2idx.get(token, token2idx['<unk>']) for token in sequence]"
   ]
  },
  {
   "cell_type": "code",
   "execution_count": 4,
   "metadata": {
    "ExecuteTime": {
     "end_time": "2022-03-07T04:10:41.882053Z",
     "start_time": "2022-03-07T04:10:41.877632Z"
    },
    "deletable": false,
    "editable": false,
    "nbgrader": {
     "cell_type": "code",
     "checksum": "a5dfc091cf79e36e398d4688a891fd47",
     "grade": true,
     "grade_id": "cell-11d33200e2a6d319",
     "locked": true,
     "points": 10,
     "schema_version": 3,
     "solution": false,
     "task": false
    }
   },
   "outputs": [],
   "source": [
    "'''\n",
    "AUTOGRADER CELL. DO NOT MODIFY THIS.\n",
    "'''\n",
    "\n",
    "sequence = ['hello', 'world', 'unknown_word']\n",
    "token2idx = {'hello': 0, 'world': 1, '<unk>': 2}\n",
    "assert to_index(sequence, token2idx) == [0, 1, 2], \"to_index() is wrong!\"\n",
    "\n"
   ]
  },
  {
   "cell_type": "markdown",
   "metadata": {
    "deletable": false,
    "editable": false,
    "nbgrader": {
     "cell_type": "markdown",
     "checksum": "d3510bb70e00b0c27ffb74888984da37",
     "grade": false,
     "grade_id": "cell-5fba963f23976f68",
     "locked": true,
     "schema_version": 3,
     "solution": false,
     "task": false
    }
   },
   "source": [
    "### 1.2 CustomDataset [10 points]\n",
    "\n",
    "Now, let us implement a custom dataset using PyTorch class `Dataset`, which will characterize the key features of the dataset we want to generate.\n",
    "\n",
    "We will use the clinical text as input and medical codes as output."
   ]
  },
  {
   "cell_type": "code",
   "execution_count": 5,
   "metadata": {
    "ExecuteTime": {
     "end_time": "2022-03-07T04:10:41.892193Z",
     "start_time": "2022-03-07T04:10:41.884034Z"
    },
    "deletable": false
   },
   "outputs": [],
   "source": [
    "from torch.utils.data import Dataset\n",
    "\n",
    "NUM_WORDS = 1253\n",
    "NUM_CLASSES = 20\n",
    "\n",
    "\n",
    "class CustomDataset(Dataset):\n",
    "    \n",
    "    def __init__(self, filename):        \n",
    "        # read in the data files\n",
    "        self.data = pd.read_csv(filename)\n",
    "        # load word lookup\n",
    "        self.idx2word, self.word2idx = self.load_lookup(f'{DATA_PATH}/vocab.csv', padding=True)\n",
    "        assert len(self.idx2word) == len(self.word2idx) == NUM_WORDS\n",
    "        \n",
    "    def load_lookup(self, filename, padding=False):\n",
    "        \"\"\" load lookup for word \"\"\"\n",
    "        idx2token = {}\n",
    "        with open(filename, 'r') as f:\n",
    "            for i, line in enumerate(f):\n",
    "                line = line.strip()\n",
    "                idx2token[i] = line\n",
    "        token2idx = {w:i for i,w in idx2token.items()}\n",
    "        return idx2token, token2idx\n",
    "        \n",
    "    def __len__(self):\n",
    "        \n",
    "        \"\"\"\n",
    "        TODO: Return the number of samples (i.e. admissions).\n",
    "        \"\"\"\n",
    "        \n",
    "        # your code here\n",
    "        return self.data.shape[0]\n",
    "    \n",
    "    def __getitem__(self, index):\n",
    "        \n",
    "        \"\"\"\n",
    "        TODO: Generate one sample of data.\n",
    "\n",
    "        Hint: convert text to indices using to_index();\n",
    "        \"\"\"\n",
    "        data = self.data.iloc[index]\n",
    "        text = data['Text'].split(' ')\n",
    "        label = data['Label']\n",
    "        # convert label string to list\n",
    "        label = [int(l) for l in label.strip('[]').split(', ')]\n",
    "        assert len(label) == NUM_CLASSES\n",
    "        # your code here\n",
    "        text = to_index(text, self.word2idx)\n",
    "        # return text as long tensor, labels as float tensor;\n",
    "        return torch.tensor(text, dtype=torch.long), torch.tensor(label, dtype=torch.float)"
   ]
  },
  {
   "cell_type": "code",
   "execution_count": 9,
   "metadata": {
    "ExecuteTime": {
     "end_time": "2022-03-07T04:10:41.916427Z",
     "start_time": "2022-03-07T04:10:41.893879Z"
    },
    "deletable": false,
    "editable": false,
    "nbgrader": {
     "cell_type": "code",
     "checksum": "a2a06638f2f95a5093e709afb71d24d1",
     "grade": false,
     "grade_id": "cell-038d272e9f818ab4",
     "locked": true,
     "schema_version": 3,
     "solution": false,
     "task": false
    }
   },
   "outputs": [
    {
     "name": "stdout",
     "output_type": "stream",
     "text": [
      "tensor([ 4, 31,  6, 16, 11, 12, 13, 32,  9,  7, 33, 14,  4, 34, 10, 35, 36, 37,\n",
      "        27, 23, 20, 38, 39, 25, 26, 40, 28, 14, 41, 42, 43, 11,  4, 44, 45, 46,\n",
      "        14, 17, 47, 48, 49, 14, 14, 17, 47, 50, 51, 14]) tensor([0., 0., 0., 0., 0., 0., 0., 0., 0., 0., 0., 0., 0., 0., 0., 0., 0., 0.,\n",
      "        0., 1.])\n"
     ]
    }
   ],
   "source": [
    "'''\n",
    "AUTOGRADER CELL. DO NOT MODIFY THIS.\n",
    "'''\n",
    "\n",
    "dataset = CustomDataset(f'{DATA_PATH}/train_df.csv')\n",
    "assert len(dataset) == 3141, \"__len__() is wrong!\"\n",
    "\n",
    "text, labels = dataset[1]\n",
    "\n",
    "assert type(text) is torch.Tensor, \"__getitem__(): text is not tensor!\"\n",
    "assert type(labels) is torch.Tensor, \"__getitem__(): labels is not tensor!\"\n",
    "assert text.dtype is torch.int64, \"__getitem__(): text is not of type long!\"\n",
    "assert labels.dtype is torch.float32, \"__getitem__(): labels is not of type float!\"\n",
    "\n",
    "print(text, labels)"
   ]
  },
  {
   "cell_type": "code",
   "execution_count": null,
   "metadata": {
    "ExecuteTime": {
     "end_time": "2022-03-07T04:10:41.923526Z",
     "start_time": "2022-03-07T04:10:41.918433Z"
    },
    "deletable": false,
    "editable": false,
    "nbgrader": {
     "cell_type": "code",
     "checksum": "9d781edf5e43f8e8a365872eb33b3e25",
     "grade": true,
     "grade_id": "cell-e8c7d116429a581c",
     "locked": true,
     "points": 10,
     "schema_version": 3,
     "solution": false,
     "task": false
    }
   },
   "outputs": [],
   "source": []
  },
  {
   "cell_type": "markdown",
   "metadata": {
    "deletable": false,
    "editable": false,
    "nbgrader": {
     "cell_type": "markdown",
     "checksum": "a19beb39e21dcca622cb2a2e5224581f",
     "grade": false,
     "grade_id": "cell-daaa70c527405c14",
     "locked": true,
     "schema_version": 3,
     "solution": false,
     "task": false
    }
   },
   "source": [
    "### 1.3 Collate Function [10 points]\n",
    "\n",
    "The collate function `collate_fn()` will be called by `DataLoader` after fetching a list of samples using the indices from `CustomDataset` to collate the list of samples into batches.\n",
    "\n",
    "For example, assume the `DataLoader` gets a list of two samples.\n",
    "\n",
    "```\n",
    "[ [3,  1,  2, 8, 5], \n",
    "  [12, 13, 6, 7, 12, 23, 11] ]\n",
    "```\n",
    "\n",
    "where the first sample has text `[3, 1, 2, 8, 5]` the second sample has text `[12, 13, 6, 7, 12, 23, 11]`.\n",
    "\n",
    "The collate function `collate_fn()` is supposed to pad them into the same shape (7), where 7 is the maximum number of tokens.\n",
    "\n",
    "``` \n",
    "[ [3,  1,  2, 8, 5, *0*, *0*], \n",
    "  [12, 13, 6, 7, 12, 23,  11 ]\n",
    "```\n",
    "\n",
    "where `*0*` indicates the padding token.\n",
    "\n",
    "We need to pad the sequences into the same length so that we can do batch training on GPU. And we also need this mask so that when training, we can ignored the padded value as they actually do not contain any information."
   ]
  },
  {
   "cell_type": "code",
   "execution_count": 11,
   "outputs": [
    {
     "data": {
      "text/plain": "tensor([[[1., 1., 1., 1., 1., 1., 1., 1., 1., 1.],\n         [1., 1., 1., 1., 1., 1., 1., 1., 1., 1.],\n         [1., 1., 1., 1., 1., 1., 1., 1., 1., 1.],\n         [1., 1., 1., 1., 1., 1., 1., 1., 1., 1.],\n         [1., 1., 1., 1., 1., 1., 1., 1., 1., 1.]],\n\n        [[1., 1., 1., 1., 1., 1., 1., 1., 1., 1.],\n         [1., 1., 1., 1., 1., 1., 1., 1., 1., 1.],\n         [1., 1., 1., 1., 1., 1., 1., 1., 1., 1.],\n         [1., 1., 1., 1., 1., 1., 1., 1., 1., 1.],\n         [1., 1., 1., 1., 1., 1., 1., 1., 1., 1.]],\n\n        [[1., 1., 1., 1., 1., 1., 1., 1., 1., 1.],\n         [1., 1., 1., 1., 1., 1., 1., 1., 1., 1.],\n         [1., 1., 1., 1., 1., 1., 1., 1., 1., 1.],\n         [1., 1., 1., 1., 1., 1., 1., 1., 1., 1.],\n         [1., 1., 1., 1., 1., 1., 1., 1., 1., 1.]],\n\n        [[1., 1., 1., 1., 1., 1., 1., 1., 1., 1.],\n         [1., 1., 1., 1., 1., 1., 1., 1., 1., 1.],\n         [1., 1., 1., 1., 1., 1., 1., 1., 1., 1.],\n         [1., 1., 1., 1., 1., 1., 1., 1., 1., 1.],\n         [1., 1., 1., 1., 1., 1., 1., 1., 1., 1.]],\n\n        [[1., 1., 1., 1., 1., 1., 1., 1., 1., 1.],\n         [1., 1., 1., 1., 1., 1., 1., 1., 1., 1.],\n         [1., 1., 1., 1., 1., 1., 1., 1., 1., 1.],\n         [1., 1., 1., 1., 1., 1., 1., 1., 1., 1.],\n         [1., 1., 1., 1., 1., 1., 1., 1., 1., 1.]]])"
     },
     "execution_count": 11,
     "metadata": {},
     "output_type": "execute_result"
    }
   ],
   "source": [
    "a = torch.ones(3, 5, 10)\n",
    "b = torch.ones(5, 5, 10)\n",
    "\n",
    "from torch.nn.utils.rnn import pad_sequence\n",
    "\n",
    "pad_sequence([a, b], batch_first=True)[1]"
   ],
   "metadata": {
    "collapsed": false,
    "pycharm": {
     "name": "#%%\n"
    }
   }
  },
  {
   "cell_type": "code",
   "execution_count": 16,
   "metadata": {
    "ExecuteTime": {
     "end_time": "2022-03-07T04:10:41.931065Z",
     "start_time": "2022-03-07T04:10:41.927498Z"
    },
    "deletable": false
   },
   "outputs": [
    {
     "data": {
      "text/plain": "(tensor([[  4,  31,   6,   7,  18, 160,  10,  11,  12,  13,  14,  15,  16,  17,\n           28,  40,  25,  26,  14,  15,  10,  17,  20, 161,  23,  21,  14,  17,\n           47,  50,  49,  14,   0,   0,   0,   0,   0,   0,   0,   0,   0,   0,\n            0,   0,   0,   0,   0,   0,   0,   0,   0,   0,   0,   0,   0,   0],\n         [  5,   7, 138, 139,  10,  11,  12,  13,  14,   4,  34,  10,  53,  14,\n          140, 141,  10, 142,  14, 194,  29,  30,  14,   0,   0,   0,   0,   0,\n            0,   0,   0,   0,   0,   0,   0,   0,   0,   0,   0,   0,   0,   0,\n            0,   0,   0,   0,   0,   0,   0,   0,   0,   0,   0,   0,   0,   0],\n         [  4,  55,  16, 195,  12,  66,   9,  14,   4,   8,  16, 196,  14,   4,\n           34,  10,  53,  14,  17,  47,  39,  14,   0,   0,   0,   0,   0,   0,\n            0,   0,   0,   0,   0,   0,   0,   0,   0,   0,   0,   0,   0,   0,\n            0,   0,   0,   0,   0,   0,   0,   0,   0,   0,   0,   0,   0,   0],\n         [ 41, 155, 181,  14,  17,  28,  25,  26,  40,  20,  38,  39,  14, 140,\n          141, 142,  14,  44, 205, 206,  48,   3,  14,  41, 155, 181,  37,  47,\n           50,  49,  14,   0,   0,   0,   0,   0,   0,   0,   0,   0,   0,   0,\n            0,   0,   0,   0,   0,   0,   0,   0,   0,   0,   0,   0,   0,   0],\n         [212,   7, 213, 197, 144,   3,  98, 214, 215,   4,  55, 216,   4, 152,\n          153,  14,  17, 217,  25,  26, 115,  17, 218, 143,  23,  18,  19,  14,\n          219, 220,  66, 221, 222,  22,  41,  31,   6,  60,  12,  55,   9,  14,\n          197, 144,  44, 223, 224,  67, 225, 107,  24, 226,  23,  21,   7,  65],\n         [ 52,  34,  10,  53,   7,  54,  60,  17, 251,  14, 186,  20,  65,  16,\n           99,  66,   4, 252,  14,  55,   9,  12,  14,  42,  44, 253,  22,  10,\n           99,  17,  56,  39,  14,   0,   0,   0,   0,   0,   0,   0,   0,   0,\n            0,   0,   0,   0,   0,   0,   0,   0,   0,   0,   0,   0,   0,   0],\n         [  4,  31,   6,   7,  18, 160,  10,  11,  12,  13,  14,  15,  16,  17,\n           28,  40,  25,  26,  14,  15,  10,  17,  20, 161,  23,  21,  14,  15,\n           10, 254,  42, 255,  66,   4,  44, 152,  46,  14,  17,  47,  50,  49,\n           14,   0,   0,   0,   0,   0,   0,   0,   0,   0,   0,   0,   0,   0],\n         [ 12,  55,   9,  14,  53, 259,  34,  14,  17,  28,  14,  17,  25,  26,\n           14,  22,   3,  98,  73, 102, 260, 101,  24, 261, 262,  14,  17,  47,\n           50,  49,  14,   0,   0,   0,   0,   0,   0,   0,   0,   0,   0,   0,\n            0,   0,   0,   0,   0,   0,   0,   0,   0,   0,   0,   0,   0,   0],\n         [ 46, 185,  10, 184,  14,  17,  20, 251,  14,  55,   9,  12,  14, 263,\n           60,  17,  89,  56,  50,  39,  14,   0,   0,   0,   0,   0,   0,   0,\n            0,   0,   0,   0,   0,   0,   0,   0,   0,   0,   0,   0,   0,   0,\n            0,   0,   0,   0,   0,   0,   0,   0,   0,   0,   0,   0,   0,   0],\n         [264,  44,  28, 265, 266,  23,   4,  44,  46, 267,   3,  14, 268, 138,\n          269,  16,  99, 270,  22,   3,  14,   0,   0,   0,   0,   0,   0,   0,\n            0,   0,   0,   0,   0,   0,   0,   0,   0,   0,   0,   0,   0,   0,\n            0,   0,   0,   0,   0,   0,   0,   0,   0,   0,   0,   0,   0,   0]]),\n tensor([[1., 0., 0., 0., 0., 0., 0., 0., 0., 0., 0., 0., 0., 0., 0., 0., 0., 0.,\n          0., 0.],\n         [1., 0., 0., 0., 0., 0., 0., 0., 0., 0., 0., 0., 0., 0., 0., 0., 0., 0.,\n          0., 0.],\n         [1., 0., 0., 0., 0., 0., 0., 0., 0., 0., 0., 0., 0., 0., 0., 0., 0., 0.,\n          0., 0.],\n         [0., 1., 0., 0., 0., 0., 0., 0., 0., 0., 0., 0., 0., 0., 0., 0., 0., 0.,\n          1., 0.],\n         [0., 0., 0., 0., 0., 0., 0., 0., 0., 0., 0., 0., 0., 0., 1., 0., 0., 0.,\n          0., 0.],\n         [0., 0., 0., 0., 0., 0., 0., 0., 1., 0., 0., 0., 1., 0., 0., 0., 0., 0.,\n          0., 0.],\n         [0., 0., 0., 0., 0., 0., 0., 0., 0., 0., 0., 0., 0., 0., 0., 0., 0., 0.,\n          0., 1.],\n         [0., 0., 0., 0., 0., 0., 0., 0., 0., 0., 0., 0., 0., 0., 0., 0., 0., 1.,\n          0., 0.],\n         [0., 0., 0., 0., 0., 0., 0., 0., 0., 0., 0., 0., 0., 0., 0., 0., 0., 1.,\n          0., 0.],\n         [0., 0., 0., 0., 0., 0., 1., 0., 0., 0., 0., 0., 1., 0., 0., 0., 0., 0.,\n          0., 0.]]))"
     },
     "execution_count": 16,
     "metadata": {},
     "output_type": "execute_result"
    }
   ],
   "source": [
    "from torch.nn.utils.rnn import pad_sequence\n",
    "\n",
    "def collate_fn(data):\n",
    "    \"\"\"\n",
    "    TODO: implement the collate function.\n",
    "    \n",
    "    STEP: 1. pad the text using pad_sequence(). Set `batch_first=True`.\n",
    "          2. stack the labels using torch.stack().\n",
    "          \n",
    "    OUTPUT:\n",
    "        text: the padded text, shape: (batch size, max length)\n",
    "        labels: the stacked labels, shape: (batch size, num classes)\n",
    "    \"\"\"\n",
    "    text, labels = zip(*data)\n",
    "\n",
    "    # your code here\n",
    "    text_ = pad_sequence(text, batch_first=True)\n",
    "    labels_ = torch.stack(labels, dim=0)\n",
    "    \n",
    "    return text_, labels_\n",
    "\n",
    "from torch.utils.data import DataLoader\n",
    "\n",
    "dataset = CustomDataset(f'{DATA_PATH}/train_df.csv')\n",
    "loader = DataLoader(dataset, batch_size=10, collate_fn=collate_fn)\n",
    "loader_iter = iter(loader)\n",
    "text, labels = next(loader_iter)\n",
    "next(loader_iter)"
   ]
  },
  {
   "cell_type": "code",
   "execution_count": 17,
   "metadata": {
    "ExecuteTime": {
     "end_time": "2022-03-07T04:10:41.955790Z",
     "start_time": "2022-03-07T04:10:41.933018Z"
    },
    "deletable": false,
    "editable": false,
    "nbgrader": {
     "cell_type": "code",
     "checksum": "ab42d108ef0ef936ff85933563ec8a78",
     "grade": false,
     "grade_id": "cell-0313cfdf6a864f9b",
     "locked": true,
     "schema_version": 3,
     "solution": false,
     "task": false
    }
   },
   "outputs": [],
   "source": [
    "'''\n",
    "AUTOGRADER CELL. DO NOT MODIFY THIS.\n",
    "'''\n",
    "\n",
    "from torch.utils.data import DataLoader\n",
    "\n",
    "dataset = CustomDataset(f'{DATA_PATH}/train_df.csv')\n",
    "loader = DataLoader(dataset, batch_size=10, collate_fn=collate_fn)\n",
    "loader_iter = iter(loader)\n",
    "text, labels = next(loader_iter)\n",
    "\n",
    "assert text.shape == (10, 104), \"collate_fn(): text has incorrect shape!\"\n",
    "assert labels.shape == (10, 20), \"collate_fn(): labels has incorrect shape!\""
   ]
  },
  {
   "cell_type": "code",
   "execution_count": null,
   "metadata": {
    "ExecuteTime": {
     "end_time": "2022-03-07T04:10:41.961785Z",
     "start_time": "2022-03-07T04:10:41.957402Z"
    },
    "deletable": false,
    "editable": false,
    "nbgrader": {
     "cell_type": "code",
     "checksum": "82707a528e05ac0e051bff1de2f144b9",
     "grade": true,
     "grade_id": "cell-32d1eba472825eea",
     "locked": true,
     "points": 10,
     "schema_version": 3,
     "solution": false,
     "task": false
    }
   },
   "outputs": [],
   "source": []
  },
  {
   "cell_type": "markdown",
   "metadata": {
    "deletable": false,
    "editable": false,
    "nbgrader": {
     "cell_type": "markdown",
     "checksum": "b6a670c1278fff9c7487f58b93ae170d",
     "grade": false,
     "grade_id": "cell-145a61ccecdd1746",
     "locked": true,
     "schema_version": 3,
     "solution": false,
     "task": false
    }
   },
   "source": [
    "All done, now let us load the dataset and data loader."
   ]
  },
  {
   "cell_type": "code",
   "execution_count": 18,
   "metadata": {
    "ExecuteTime": {
     "end_time": "2022-03-07T04:10:41.986843Z",
     "start_time": "2022-03-07T04:10:41.963440Z"
    },
    "deletable": false,
    "editable": false,
    "nbgrader": {
     "cell_type": "code",
     "checksum": "65c64dd39599ce258fb76843d12c8a4e",
     "grade": false,
     "grade_id": "cell-6d2616a603b45e97",
     "locked": true,
     "schema_version": 3,
     "solution": false,
     "task": false
    }
   },
   "outputs": [],
   "source": [
    "train_set = CustomDataset(f'{DATA_PATH}/train_df.csv')\n",
    "test_set = CustomDataset(f'{DATA_PATH}/test_df.csv')\n",
    "train_loader = DataLoader(train_set, batch_size=32, collate_fn=collate_fn, shuffle=True)\n",
    "test_loader = DataLoader(test_set, batch_size=32, collate_fn=collate_fn)"
   ]
  },
  {
   "cell_type": "markdown",
   "metadata": {
    "deletable": false,
    "editable": false,
    "nbgrader": {
     "cell_type": "markdown",
     "checksum": "e7a667fd37c57a66dae066cb91d3e9f5",
     "grade": false,
     "grade_id": "cell-be04e864f3d431f9",
     "locked": true,
     "schema_version": 3,
     "solution": false,
     "task": false
    }
   },
   "source": [
    "## 2 Model [50 points]\n",
    "\n",
    "Next, we will implement the CAML model.\n",
    "\n",
    "<img src='img/caml.png'>\n",
    "\n",
    "CAML is a convolutional neural network (CNN)-based model. It employs a per-label attention mechanism, which allows the model to learn distinct document representations for each label."
   ]
  },
  {
   "cell_type": "code",
   "execution_count": 25,
   "metadata": {
    "ExecuteTime": {
     "end_time": "2022-03-07T04:10:42.003479Z",
     "start_time": "2022-03-07T04:10:41.988723Z"
    },
    "deletable": false
   },
   "outputs": [],
   "source": [
    "from math import floor\n",
    "from torch.nn.init import xavier_uniform_\n",
    "\n",
    "\n",
    "class CAML(nn.Module):\n",
    "\n",
    "    def __init__(self, kernel_size=10, num_filter_maps=16, embed_size=100, dropout=0.5):\n",
    "        super(CAML, self).__init__()\n",
    "        \n",
    "        # embedding layer\n",
    "        self.embed = nn.Embedding(NUM_WORDS, embed_size, padding_idx=0)\n",
    "        self.embed_drop = nn.Dropout(p=dropout)\n",
    "\n",
    "        # initialize conv layer as in section 2.1\n",
    "        self.conv = nn.Conv1d(embed_size, num_filter_maps, kernel_size=kernel_size, padding=int(floor(kernel_size/2)))\n",
    "        xavier_uniform_(self.conv.weight)\n",
    "\n",
    "        # context vectors for computing attention as in section 2.2\n",
    "        self.U = nn.Linear(num_filter_maps, 20)\n",
    "        xavier_uniform_(self.U.weight)\n",
    "\n",
    "        # final layer: create a matrix to use for the NUM_CLASSES binary classifiers as in section 2.3\n",
    "        self.final = nn.Linear(num_filter_maps, NUM_CLASSES)\n",
    "        xavier_uniform_(self.final.weight)\n",
    "        \n",
    "    def forward_embed(self, text):\n",
    "        \"\"\"\n",
    "        TODO: Feed text through the embedding (self.embed) and dropout layer (self.embed_drop).\n",
    "        \n",
    "        INPUT: \n",
    "            text: (batch size, seq_len)\n",
    "            \n",
    "        OURPUT:\n",
    "            text: (batch size, seq_len, embed_size)\n",
    "        \"\"\"\n",
    "        # your code here\n",
    "        out = self.embed(text)\n",
    "        out = self.embed_drop(out)\n",
    "\n",
    "        return out\n",
    "        \n",
    "    def forward_conv(self, text):\n",
    "        \"\"\"\n",
    "        TODO: Feed text through the convolution layer (self.conv) and tanh activation function (torch.tanh) \n",
    "        in eq (1) in the paper.\n",
    "        \n",
    "        INTPUT:\n",
    "            text: (batch size, embed_size, seq_len)\n",
    "            \n",
    "        OUTPUT:\n",
    "            text: (batch size, num_filter_maps, seq_len)\n",
    "        \"\"\"\n",
    "        # your code here\n",
    "        out = self.conv(text)\n",
    "        h = torch.tanh(out)\n",
    "\n",
    "        return h\n",
    "        \n",
    "    def forward_calc_atten(self, text):\n",
    "        \"\"\"\n",
    "        TODO: calculate the attention weights in eq (2) in the paper. Be sure to read the documentation for\n",
    "        F.softmax()\n",
    "        \n",
    "        INPUT:\n",
    "            text: (batch size, seq_len, num_filter_maps)\n",
    "\n",
    "        OUTPUT:\n",
    "            alpha: (batch size, num_class, seq_len), the attention weights\n",
    "            \n",
    "        STEP: 1. multiply `self.U.weight` with `text` using torch.matmul();\n",
    "              2. apply softmax using `F.softmax()`.\n",
    "        \"\"\"\n",
    "        # (batch size, seq_len, num_filter_maps) -> (batch size, num_filter_maps, seq_len)\n",
    "        text = text.transpose(1,2)\n",
    "        # your code here\n",
    "        alpha = torch.matmul(self.U.weight, text)\n",
    "        # which is the dim for softmax?\n",
    "        alpha_sm = F.softmax(alpha, dim=2)\n",
    "\n",
    "        return alpha_sm\n",
    "        \n",
    "    def forward_aply_atten(self, alpha, text):\n",
    "        \"\"\"\n",
    "        TODO: apply the attention in eq (3) in the paper.\n",
    "\n",
    "        INPUT: \n",
    "            text: (batch size, seq_len, num_filter_maps)\n",
    "            alpha: (batch size, num_class, seq_len), the attention weights\n",
    "            \n",
    "        OUTPUT:\n",
    "            v: (batch size, num_class, num_filter_maps), vector representations for each label\n",
    "            \n",
    "        STEP: multiply `alpha` with `text` using torch.matmul().\n",
    "        \"\"\"\n",
    "        # your code here\n",
    "        atten = torch.matmul(alpha, text)\n",
    "\n",
    "        return atten\n",
    "    \n",
    "    def forward_linear(self, v):\n",
    "        \"\"\"\n",
    "        TODO: apply the final linear classification in eq (5) in the paper.\n",
    "        \n",
    "        INPUT: \n",
    "            v: (batch size, num_class, num_filter_maps), vector representations for each label\n",
    "            \n",
    "        OUTPUT:\n",
    "            y_hat: (batch size, num_class), label probability\n",
    "            \n",
    "        STEP: 1. multiply `self.final.weight` v `text` element-wise using torch.mul();\n",
    "              2. sum the result over dim 2 (i.e. num_filter_maps);\n",
    "              3. add the result with `self.final.bias`;\n",
    "              4. apply sigmoid with torch.sigmoid().\n",
    "        \"\"\"\n",
    "        # your code here\n",
    "        y_hat_1 = torch.mul(self.final.weight, v)\n",
    "        y_hat_2 = torch.sum(y_hat_1, dim=2)\n",
    "        y_hat_3 = y_hat_2 + self.final.bias\n",
    "\n",
    "        y_hat = torch.sigmoid(y_hat_3)\n",
    "\n",
    "        return y_hat\n",
    "        \n",
    "    def forward(self, text):\n",
    "        \"\"\" 1. get embeddings and apply dropout \"\"\"\n",
    "        text = self.forward_embed(text)\n",
    "        # (batch size, seq_len, embed_size) -> (batch size, embed_size, seq_len);\n",
    "        text = text.transpose(1, 2)\n",
    "\n",
    "        \"\"\" 2. apply convolution and nonlinearity (tanh) \"\"\"\n",
    "        text = self.forward_conv(text)\n",
    "        # (batch size, num_filter_maps, seq_len) -> (batch size, seq_len, num_filter_maps);\n",
    "        text = text.transpose(1,2)\n",
    "        \n",
    "        \"\"\" 3. calculate attention \"\"\"\n",
    "        alpha = self.forward_calc_atten(text)\n",
    "        \n",
    "        \"\"\" 3. apply attention \"\"\"\n",
    "        v = self.forward_aply_atten(alpha, text)\n",
    "           \n",
    "        \"\"\" 4. final layer classification \"\"\"\n",
    "        y_hat = self.forward_linear(v)\n",
    "        \n",
    "        return y_hat\n",
    "    \n",
    "    \n",
    "model = CAML()"
   ]
  },
  {
   "cell_type": "code",
   "execution_count": 26,
   "metadata": {
    "ExecuteTime": {
     "end_time": "2022-03-07T04:10:42.049174Z",
     "start_time": "2022-03-07T04:10:42.005299Z"
    },
    "deletable": false,
    "editable": false,
    "nbgrader": {
     "cell_type": "code",
     "checksum": "8222dca382bccca88209b80a78f1a25f",
     "grade": true,
     "grade_id": "cell-a8e0df4d7b626823",
     "locked": true,
     "points": 50,
     "schema_version": 3,
     "solution": false,
     "task": false
    }
   },
   "outputs": [
    {
     "data": {
      "text/plain": "CAML(\n  (embed): Embedding(1253, 100, padding_idx=0)\n  (embed_drop): Dropout(p=0.5, inplace=False)\n  (conv): Conv1d(100, 16, kernel_size=(10,), stride=(1,), padding=(5,))\n  (U): Linear(in_features=16, out_features=20, bias=True)\n  (final): Linear(in_features=16, out_features=20, bias=True)\n)"
     },
     "execution_count": 26,
     "metadata": {},
     "output_type": "execute_result"
    }
   ],
   "source": [
    "'''\n",
    "AUTOGRADER CELL. DO NOT MODIFY THIS.\n",
    "'''\n",
    "\n",
    "model = CAML()\n",
    "model.eval()\n",
    "\n"
   ]
  },
  {
   "cell_type": "markdown",
   "metadata": {
    "deletable": false,
    "editable": false,
    "nbgrader": {
     "cell_type": "markdown",
     "checksum": "bc6bf48f01868932e9802c2cc9f381b6",
     "grade": false,
     "grade_id": "cell-e768199c36c80533",
     "locked": true,
     "schema_version": 3,
     "solution": false,
     "task": false
    }
   },
   "source": [
    "## 3 Training and Inferencing [20 points]"
   ]
  },
  {
   "cell_type": "code",
   "execution_count": 27,
   "metadata": {
    "ExecuteTime": {
     "end_time": "2022-03-07T04:10:42.054728Z",
     "start_time": "2022-03-07T04:10:42.050983Z"
    },
    "deletable": false,
    "editable": false,
    "nbgrader": {
     "cell_type": "code",
     "checksum": "a3f1f21afcf6042b7d83cca59087b20f",
     "grade": false,
     "grade_id": "cell-fc6958e6026c2fd9",
     "locked": true,
     "schema_version": 3,
     "solution": false,
     "task": false
    }
   },
   "outputs": [],
   "source": [
    "model = CAML()"
   ]
  },
  {
   "cell_type": "code",
   "execution_count": 28,
   "metadata": {
    "ExecuteTime": {
     "end_time": "2022-03-07T04:10:42.059005Z",
     "start_time": "2022-03-07T04:10:42.056341Z"
    },
    "deletable": false,
    "editable": false,
    "nbgrader": {
     "cell_type": "code",
     "checksum": "4780437652156f863db908d37327c93a",
     "grade": false,
     "grade_id": "cell-b1a957b201a5269c",
     "locked": true,
     "schema_version": 3,
     "solution": false,
     "task": false
    }
   },
   "outputs": [],
   "source": [
    "import torch.optim as optim\n",
    "\n",
    "optimizer = optim.Adam(model.parameters(), lr=0.001)\n",
    "criterion = nn.BCELoss()"
   ]
  },
  {
   "cell_type": "markdown",
   "metadata": {
    "deletable": false,
    "editable": false,
    "nbgrader": {
     "cell_type": "markdown",
     "checksum": "5223c97e3da31f8bfed63b1013d2e968",
     "grade": false,
     "grade_id": "cell-e8ede5c4dd41ad6b",
     "locked": true,
     "schema_version": 3,
     "solution": false,
     "task": false
    }
   },
   "source": [
    "Now let us implement the `eval()` and `train()` function. Note that `train()` should call `eval()` at the end of each training epoch to see the results on the validaion dataset."
   ]
  },
  {
   "cell_type": "code",
   "execution_count": 29,
   "metadata": {
    "ExecuteTime": {
     "end_time": "2022-03-07T04:10:42.525317Z",
     "start_time": "2022-03-07T04:10:42.060609Z"
    },
    "deletable": false
   },
   "outputs": [],
   "source": [
    "from sklearn.metrics import precision_recall_fscore_support\n",
    "\n",
    "\n",
    "def eval(model, test_loader):\n",
    "    \n",
    "    \"\"\"    \n",
    "    INPUT:\n",
    "        model: the CAML model\n",
    "        test_loader: dataloader\n",
    "        \n",
    "    OUTPUT:\n",
    "        precision: overall micro precision score\n",
    "        recall: overall micro recall score\n",
    "        f1: overall micro f1 score\n",
    "        \n",
    "    REFERENCE: checkout https://scikit-learn.org/stable/modules/classes.html#module-sklearn.metrics\n",
    "    \"\"\"\n",
    "\n",
    "    model.eval()\n",
    "    y_pred = torch.LongTensor()\n",
    "    y_true = torch.LongTensor()\n",
    "    model.eval()\n",
    "    for sequences, labels in test_loader:\n",
    "        \"\"\"\n",
    "        TODO: 1. preform forward pass\n",
    "              2. obtain the predicted class (0, 1) by comparing forward pass output against 0.5, \n",
    "                 assign the predicted class to y_hat.\n",
    "        \"\"\"\n",
    "        # your code here\n",
    "        y_logit = model(sequences)\n",
    "        y_hat = y_logit > 0.5\n",
    "        y_pred = torch.cat((y_pred,  y_hat.detach().to('cpu')), dim=0)\n",
    "        y_true = torch.cat((y_true, labels.detach().to('cpu')), dim=0)\n",
    "    \n",
    "    p, r, f, _ = precision_recall_fscore_support(y_true, y_pred, average='micro')\n",
    "    return p, r, f"
   ]
  },
  {
   "cell_type": "code",
   "execution_count": 30,
   "metadata": {
    "ExecuteTime": {
     "end_time": "2022-03-07T04:11:31.424731Z",
     "start_time": "2022-03-07T04:10:42.527464Z"
    },
    "deletable": false
   },
   "outputs": [
    {
     "name": "stdout",
     "output_type": "stream",
     "text": [
      "Epoch: 1 \t Training Loss: 0.449362\n"
     ]
    },
    {
     "name": "stderr",
     "output_type": "stream",
     "text": [
      "C:\\ProgramData\\Anaconda3\\envs\\dl4h\\lib\\site-packages\\sklearn\\metrics\\_classification.py:1221: UndefinedMetricWarning: Precision and F-score are ill-defined and being set to 0.0 due to no predicted samples. Use `zero_division` parameter to control this behavior.\n",
      "  _warn_prf(average, modifier, msg_start, len(result))\n"
     ]
    },
    {
     "name": "stdout",
     "output_type": "stream",
     "text": [
      "Epoch: 1 \t Validation p: 0.00, r:0.00, f: 0.00\n",
      "Epoch: 2 \t Training Loss: 0.264283\n",
      "Epoch: 2 \t Validation p: 0.00, r:0.00, f: 0.00\n",
      "Epoch: 3 \t Training Loss: 0.224372\n",
      "Epoch: 3 \t Validation p: 0.87, r:0.11, f: 0.19\n",
      "Epoch: 4 \t Training Loss: 0.207834\n",
      "Epoch: 4 \t Validation p: 0.84, r:0.22, f: 0.35\n",
      "Epoch: 5 \t Training Loss: 0.197159\n",
      "Epoch: 5 \t Validation p: 0.83, r:0.24, f: 0.37\n",
      "Epoch: 6 \t Training Loss: 0.187960\n",
      "Epoch: 6 \t Validation p: 0.85, r:0.24, f: 0.38\n",
      "Epoch: 7 \t Training Loss: 0.181528\n",
      "Epoch: 7 \t Validation p: 0.84, r:0.26, f: 0.40\n",
      "Epoch: 8 \t Training Loss: 0.173293\n",
      "Epoch: 8 \t Validation p: 0.87, r:0.28, f: 0.42\n",
      "Epoch: 9 \t Training Loss: 0.166261\n",
      "Epoch: 9 \t Validation p: 0.90, r:0.35, f: 0.51\n",
      "Epoch: 10 \t Training Loss: 0.157938\n",
      "Epoch: 10 \t Validation p: 0.88, r:0.42, f: 0.57\n",
      "Epoch: 11 \t Training Loss: 0.151129\n",
      "Epoch: 11 \t Validation p: 0.88, r:0.45, f: 0.60\n",
      "Epoch: 12 \t Training Loss: 0.146058\n",
      "Epoch: 12 \t Validation p: 0.88, r:0.47, f: 0.62\n",
      "Epoch: 13 \t Training Loss: 0.140669\n",
      "Epoch: 13 \t Validation p: 0.89, r:0.48, f: 0.62\n",
      "Epoch: 14 \t Training Loss: 0.136623\n",
      "Epoch: 14 \t Validation p: 0.89, r:0.50, f: 0.64\n",
      "Epoch: 15 \t Training Loss: 0.131575\n",
      "Epoch: 15 \t Validation p: 0.90, r:0.51, f: 0.65\n",
      "Epoch: 16 \t Training Loss: 0.126801\n",
      "Epoch: 16 \t Validation p: 0.90, r:0.53, f: 0.67\n",
      "Epoch: 17 \t Training Loss: 0.123487\n",
      "Epoch: 17 \t Validation p: 0.91, r:0.55, f: 0.69\n",
      "Epoch: 18 \t Training Loss: 0.117933\n",
      "Epoch: 18 \t Validation p: 0.90, r:0.59, f: 0.72\n",
      "Epoch: 19 \t Training Loss: 0.114505\n",
      "Epoch: 19 \t Validation p: 0.90, r:0.60, f: 0.72\n",
      "Epoch: 20 \t Training Loss: 0.110719\n",
      "Epoch: 20 \t Validation p: 0.90, r:0.60, f: 0.72\n"
     ]
    }
   ],
   "source": [
    "def train(model, train_loader, test_loader, n_epochs):\n",
    "    \"\"\"    \n",
    "    INPUT:\n",
    "        model: the CAML model\n",
    "        train_loader: dataloder\n",
    "        val_loader: dataloader\n",
    "        n_epochs: total number of epochs\n",
    "    \"\"\"\n",
    "    for epoch in range(n_epochs):\n",
    "        model.train()\n",
    "        train_loss = 0\n",
    "        for sequences, labels in train_loader:\n",
    "            optimizer.zero_grad()\n",
    "            \"\"\" \n",
    "            TODO: 1. perform forward pass using `model`, save the output to y_hat;\n",
    "                  2. calculate the loss using `criterion`, save the output to loss.\n",
    "            \"\"\"\n",
    "            y_hat, loss = None, None\n",
    "            # your code here\n",
    "            y_hat = model(sequences)\n",
    "            loss = criterion(y_hat, labels)\n",
    "            loss.backward()\n",
    "            optimizer.step()\n",
    "            train_loss += loss.item()\n",
    "        train_loss = train_loss / len(train_loader)\n",
    "        print('Epoch: {} \\t Training Loss: {:.6f}'.format(epoch+1, train_loss))\n",
    "        p, r, f = eval(model, test_loader)\n",
    "        print('Epoch: {} \\t Validation p: {:.2f}, r:{:.2f}, f: {:.2f}'.format(epoch+1, p, r, f))\n",
    "\n",
    "    \n",
    "# number of epochs to train the model\n",
    "n_epochs = 20\n",
    "\n",
    "train(model, train_loader, test_loader, n_epochs)"
   ]
  },
  {
   "cell_type": "code",
   "execution_count": 31,
   "metadata": {
    "ExecuteTime": {
     "end_time": "2022-03-07T04:11:31.728458Z",
     "start_time": "2022-03-07T04:11:31.426307Z"
    },
    "deletable": false,
    "editable": false,
    "nbgrader": {
     "cell_type": "code",
     "checksum": "7154933cbd362158a0890b4c4848a2e6",
     "grade": false,
     "grade_id": "cell-4b2eb9b6f46f2204",
     "locked": true,
     "schema_version": 3,
     "solution": false,
     "task": false
    }
   },
   "outputs": [],
   "source": [
    "'''\n",
    "AUTOGRADER CELL. DO NOT MODIFY THIS.\n",
    "'''\n",
    "\n",
    "p, r, f = eval(model, test_loader)\n",
    "assert f > 0.70, \"f1 below 0.70!\""
   ]
  },
  {
   "cell_type": "code",
   "execution_count": null,
   "metadata": {
    "ExecuteTime": {
     "end_time": "2022-03-07T04:11:32.015855Z",
     "start_time": "2022-03-07T04:11:31.729697Z"
    },
    "deletable": false,
    "editable": false,
    "nbgrader": {
     "cell_type": "code",
     "checksum": "85bcee63570621b70f11d025a7c76e8f",
     "grade": true,
     "grade_id": "cell-d3d0cccc9e597b76",
     "locked": true,
     "points": 20,
     "schema_version": 3,
     "solution": false,
     "task": false
    }
   },
   "outputs": [],
   "source": []
  }
 ],
 "metadata": {
  "illinois_payload": {
   "b64z": "",
   "nb_path": "release/HW4_CAML/HW4_CAML.ipynb"
  },
  "kernelspec": {
   "display_name": "Python 3 (Threads: 2)",
   "language": "python",
   "name": "python3"
  },
  "language_info": {
   "codemirror_mode": {
    "name": "ipython",
    "version": 3
   },
   "file_extension": ".py",
   "mimetype": "text/x-python",
   "name": "python",
   "nbconvert_exporter": "python",
   "pygments_lexer": "ipython3",
   "version": "3.8.12"
  },
  "toc": {
   "base_numbering": 1,
   "nav_menu": {},
   "number_sections": false,
   "sideBar": true,
   "skip_h1_title": true,
   "title_cell": "Table of Contents",
   "title_sidebar": "Contents",
   "toc_cell": false,
   "toc_position": {},
   "toc_section_display": true,
   "toc_window_display": true
  }
 },
 "nbformat": 4,
 "nbformat_minor": 4
}