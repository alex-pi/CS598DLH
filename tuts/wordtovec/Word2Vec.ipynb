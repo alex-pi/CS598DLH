{
 "nbformat": 4,
 "nbformat_minor": 0,
 "metadata": {
  "colab": {
   "name": "Word2Vec.ipynb",
   "provenance": [],
   "collapsed_sections": [],
   "include_colab_link": true
  },
  "kernelspec": {
   "name": "python3",
   "language": "python",
   "display_name": "Python 3"
  },
  "accelerator": "GPU"
 },
 "cells": [
  {
   "cell_type": "markdown",
   "metadata": {
    "id": "view-in-github",
    "colab_type": "text"
   },
   "source": [
    "<a href=\"https://colab.research.google.com/github/Suji04/NormalizedNerd/blob/master/Word2Vec.ipynb\" target=\"_parent\"><img src=\"https://colab.research.google.com/assets/colab-badge.svg\" alt=\"Open In Colab\"/></a>"
   ]
  },
  {
   "cell_type": "code",
   "metadata": {
    "id": "v2goQ7zZ6Jky",
    "colab_type": "code",
    "colab": {}
   },
   "source": [
    "import numpy as np\n",
    "from sklearn.manifold import TSNE\n",
    "import matplotlib.pyplot as plt"
   ],
   "execution_count": 1,
   "outputs": []
  },
  {
   "cell_type": "markdown",
   "metadata": {
    "id": "e8kSUsoO1Z3U",
    "colab_type": "text"
   },
   "source": [
    "## download the word vectors"
   ]
  },
  {
   "cell_type": "code",
   "metadata": {
    "id": "9WbgU0u66nw4",
    "colab_type": "code",
    "outputId": "90996d31-cb87-4b37-ca58-23be0f446f92",
    "colab": {
     "base_uri": "https://localhost:8080/",
     "height": 88
    }
   },
   "source": [
    "import gensim.downloader as api\n",
    "word2vec_model = api.load('word2vec-google-news-300')\n",
    "print(type(word2vec_model))"
   ],
   "execution_count": 2,
   "outputs": [
    {
     "name": "stderr",
     "output_type": "stream",
     "text": [
      "C:\\ProgramData\\Anaconda3\\envs\\dl4h\\lib\\site-packages\\gensim\\similarities\\__init__.py:15: UserWarning: The gensim.similarities.levenshtein submodule is disabled, because the optional Levenshtein package <https://pypi.org/project/python-Levenshtein/> is unavailable. Install Levenhstein (e.g. `pip install python-Levenshtein`) to suppress this warning.\n",
      "  warnings.warn(msg)\n"
     ]
    },
    {
     "name": "stdout",
     "output_type": "stream",
     "text": [
      "<class 'gensim.models.keyedvectors.KeyedVectors'>\n"
     ]
    }
   ]
  },
  {
   "cell_type": "markdown",
   "metadata": {
    "id": "EAnppTlU1foo",
    "colab_type": "text"
   },
   "source": [
    "## vector representation of a word"
   ]
  },
  {
   "cell_type": "code",
   "metadata": {
    "id": "5a3DLDARgOBS",
    "colab_type": "code",
    "outputId": "b20fa3e6-73d7-48da-cf20-a2867b2a36ce",
    "colab": {
     "base_uri": "https://localhost:8080/",
     "height": 1000
    }
   },
   "source": [
    "word2vec_model[\"beautiful\"]"
   ],
   "execution_count": 7,
   "outputs": [
    {
     "data": {
      "text/plain": "array([-0.01831055,  0.05566406, -0.01153564,  0.07275391,  0.15136719,\n       -0.06176758,  0.20605469, -0.15332031, -0.05908203,  0.22851562,\n       -0.06445312, -0.22851562, -0.09472656, -0.03344727,  0.24707031,\n        0.05541992, -0.00921631,  0.1328125 , -0.15429688,  0.08105469,\n       -0.07373047,  0.24316406,  0.12353516, -0.09277344,  0.08203125,\n        0.06494141,  0.15722656,  0.11279297, -0.0612793 , -0.296875  ,\n       -0.13378906,  0.234375  ,  0.09765625,  0.17773438,  0.06689453,\n       -0.27539062,  0.06445312, -0.13867188, -0.08886719,  0.171875  ,\n        0.07861328, -0.10058594,  0.23925781,  0.03808594,  0.18652344,\n       -0.11279297,  0.22558594,  0.10986328, -0.11865234,  0.02026367,\n        0.11376953,  0.09570312,  0.29492188,  0.08251953, -0.05444336,\n       -0.0090332 , -0.0625    , -0.17578125, -0.08154297,  0.01062012,\n       -0.04736328, -0.08544922, -0.19042969, -0.30273438,  0.07617188,\n        0.125     , -0.05932617,  0.03833008, -0.03564453,  0.2421875 ,\n        0.36132812,  0.04760742,  0.00631714, -0.03088379, -0.13964844,\n        0.22558594, -0.06298828, -0.02636719,  0.1171875 ,  0.33398438,\n       -0.07666016, -0.06689453,  0.04150391, -0.15136719, -0.22460938,\n        0.03320312, -0.15332031,  0.07128906,  0.16992188,  0.11572266,\n       -0.13085938,  0.12451172, -0.20410156,  0.04736328, -0.296875  ,\n       -0.17480469,  0.00872803, -0.04638672,  0.10791016, -0.203125  ,\n       -0.27539062,  0.2734375 ,  0.02563477, -0.11035156,  0.0625    ,\n        0.1953125 ,  0.16015625, -0.13769531, -0.09863281, -0.1953125 ,\n       -0.22851562,  0.25390625,  0.00915527, -0.03857422,  0.3984375 ,\n       -0.1796875 ,  0.03833008, -0.24804688,  0.03515625,  0.03881836,\n        0.03442383, -0.04101562,  0.20214844, -0.03015137, -0.09619141,\n        0.11669922, -0.06738281,  0.0625    ,  0.10742188,  0.25585938,\n       -0.21777344,  0.05639648, -0.0065918 ,  0.16113281,  0.11865234,\n       -0.03088379, -0.11572266,  0.02685547,  0.03100586,  0.09863281,\n        0.05883789,  0.00634766,  0.11914062,  0.07324219, -0.01586914,\n        0.18457031,  0.05322266,  0.19824219, -0.22363281, -0.25195312,\n        0.15039062,  0.22753906,  0.05737305,  0.16992188, -0.22558594,\n        0.06494141,  0.11914062, -0.06640625, -0.10449219, -0.07226562,\n       -0.16992188,  0.0625    ,  0.14648438,  0.27148438, -0.02172852,\n       -0.12695312,  0.18457031, -0.27539062, -0.36523438, -0.03491211,\n       -0.18554688,  0.23828125, -0.13867188,  0.00296021,  0.04272461,\n        0.13867188,  0.12207031,  0.05957031, -0.22167969, -0.18945312,\n       -0.23242188, -0.28710938, -0.00866699, -0.16113281, -0.24316406,\n        0.05712891, -0.06982422,  0.00053406, -0.10302734, -0.13378906,\n       -0.16113281,  0.11621094,  0.31640625, -0.02697754, -0.01574707,\n        0.11425781, -0.04174805,  0.05908203,  0.02661133, -0.08642578,\n        0.140625  ,  0.09228516, -0.25195312, -0.31445312, -0.05688477,\n        0.01031494,  0.0234375 , -0.02331543, -0.08056641,  0.01269531,\n       -0.34179688,  0.17285156, -0.16015625,  0.07763672, -0.03088379,\n        0.11962891,  0.11767578,  0.20117188, -0.01940918,  0.02172852,\n        0.23046875,  0.28125   , -0.17675781,  0.02978516,  0.08740234,\n       -0.06176758,  0.00939941, -0.09277344, -0.203125  ,  0.13085938,\n       -0.13671875, -0.00500488, -0.04296875,  0.12988281,  0.3515625 ,\n        0.0402832 , -0.12988281, -0.03173828,  0.28515625,  0.18261719,\n        0.13867188, -0.16503906, -0.26171875, -0.04345703,  0.0100708 ,\n        0.08740234,  0.00421143, -0.1328125 , -0.17578125, -0.04321289,\n       -0.015625  ,  0.16894531,  0.25      ,  0.37109375,  0.19921875,\n       -0.36132812, -0.10302734, -0.20800781, -0.20117188, -0.01519775,\n       -0.12207031, -0.12011719, -0.07421875, -0.04345703,  0.14160156,\n        0.15527344, -0.03027344, -0.09326172, -0.04589844,  0.16796875,\n       -0.03027344,  0.09179688, -0.10058594,  0.20703125,  0.11376953,\n       -0.12402344,  0.04003906,  0.06933594, -0.34570312,  0.03881836,\n        0.16210938,  0.05761719, -0.12792969, -0.05810547,  0.03857422,\n       -0.11328125, -0.1953125 , -0.28125   , -0.13183594,  0.15722656,\n       -0.09765625,  0.09619141, -0.09960938, -0.00285339, -0.03637695,\n        0.15429688,  0.06152344, -0.34570312,  0.11083984,  0.03344727],\n      dtype=float32)"
     },
     "execution_count": 7,
     "metadata": {},
     "output_type": "execute_result"
    }
   ]
  },
  {
   "cell_type": "markdown",
   "metadata": {
    "id": "E9qfbMxS1qDa",
    "colab_type": "text"
   },
   "source": [
    "## word vectors understand the meanings of words\n"
   ]
  },
  {
   "cell_type": "code",
   "metadata": {
    "id": "zR3zzQUrfEXe",
    "colab_type": "code",
    "outputId": "fc73e93d-e337-497e-b570-f171a219a5b8",
    "colab": {
     "base_uri": "https://localhost:8080/",
     "height": 241
    }
   },
   "source": [
    "word2vec_model.most_similar(\"girl\")"
   ],
   "execution_count": 8,
   "outputs": [
    {
     "data": {
      "text/plain": "[('boy', 0.8543271422386169),\n ('teenage_girl', 0.7927975654602051),\n ('woman', 0.7494640946388245),\n ('teenager', 0.717249870300293),\n ('schoolgirl', 0.7075953483581543),\n ('teenaged_girl', 0.6650916337966919),\n ('daughter', 0.6489864587783813),\n ('mother', 0.6478164196014404),\n ('toddler', 0.6473967432975769),\n ('girls', 0.6154742240905762)]"
     },
     "execution_count": 8,
     "metadata": {},
     "output_type": "execute_result"
    }
   ]
  },
  {
   "cell_type": "markdown",
   "metadata": {
    "id": "_Go8rwIO1RXU",
    "colab_type": "text"
   },
   "source": [
    "## queen - girl + boy = king"
   ]
  },
  {
   "cell_type": "code",
   "metadata": {
    "id": "DVNmvmnyw-9h",
    "colab_type": "code",
    "outputId": "eb37e502-7def-4f1e-a5d8-1a0ba19bb387",
    "colab": {
     "base_uri": "https://localhost:8080/",
     "height": 88
    }
   },
   "source": [
    "word2vec_model.most_similar(positive=['boy', 'queen'], negative=['girl'], topn=5)\n",
    "#word2vec_model.most_similar(positive=['cat', 'seven', 'lives'], topn=1)"
   ],
   "execution_count": 6,
   "outputs": [
    {
     "data": {
      "text/plain": "[('king', 0.7298423051834106),\n ('queens', 0.6158192753791809),\n ('kings', 0.6095129251480103),\n ('monarch', 0.6066233515739441),\n ('princess', 0.5654320120811462)]"
     },
     "execution_count": 6,
     "metadata": {},
     "output_type": "execute_result"
    }
   ]
  },
  {
   "cell_type": "code",
   "metadata": {
    "id": "R9Tn9a3zjISS",
    "colab_type": "code",
    "outputId": "31c75d2c-d73d-484a-f2b2-bb33f4e2d052",
    "colab": {
     "base_uri": "https://localhost:8080/",
     "height": 483
    }
   },
   "source": [
    "vocab = [\"cat\", \"dog\", \"flower\", \"boy\", \"girl\", \"man\", \"woman\", \"king\", \"queen\", \"banana\", \"apple\", \"mango\", \"fruit\", \"coconut\", \"orange\"]\n",
    "\n",
    "def tsne_plot(model):\n",
    "    labels = []\n",
    "    wordvecs = []\n",
    "\n",
    "    for word in vocab:\n",
    "        wordvecs.append(model[word])\n",
    "        labels.append(word)\n",
    "    \n",
    "    tsne_model = TSNE(perplexity=3, n_components=2, init='pca', random_state=42)\n",
    "    coordinates = tsne_model.fit_transform(wordvecs)\n",
    "\n",
    "    x = []\n",
    "    y = []\n",
    "    for value in coordinates:\n",
    "        x.append(value[0])\n",
    "        y.append(value[1])\n",
    "        \n",
    "    plt.figure(figsize=(8,8)) \n",
    "    for i in range(len(x)):\n",
    "        plt.scatter(x[i],y[i])\n",
    "        plt.annotate(labels[i],\n",
    "                     xy=(x[i], y[i]),\n",
    "                     xytext=(2, 2),\n",
    "                     textcoords='offset points',\n",
    "                     ha='right',\n",
    "                     va='bottom')\n",
    "    plt.show()\n",
    "\n",
    "tsne_plot(word2vec_model)"
   ],
   "execution_count": 13,
   "outputs": [
    {
     "data": {
      "text/plain": "<Figure size 576x576 with 1 Axes>",
      "image/png": "[encoded data removed]"
     },
     "metadata": {
      "needs_background": "light"
     },
     "output_type": "display_data"
    }
   ]
  }
 ]
}