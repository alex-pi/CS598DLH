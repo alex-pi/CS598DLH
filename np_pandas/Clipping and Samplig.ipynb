{
 "cells": [
  {
   "cell_type": "code",
   "execution_count": 1,
   "metadata": {
    "collapsed": true
   },
   "outputs": [],
   "source": [
    "import numpy as np\n",
    "import numpy.random as npr\n",
    "import matplotlib.pyplot as plt"
   ]
  },
  {
   "cell_type": "code",
   "execution_count": 3,
   "outputs": [
    {
     "data": {
      "text/plain": "array([  1, -10, -10,  -5,  -6, -10,  -8,  -2,   0,  -7,   0,  -8,  -6,\n         2,  -8,   1,   4,   6,   3,   1,   1,  -7,  -2,   5,  -9,  -7,\n        -3,   1,  -2,   0,  -6,   3,  -8,  -3,   5,  -5,   9,   0,   5,\n         3,   0,  -7,  -8,  -3,  -8,  -8,   0,   0,   2,   6,  -4,   1,\n        -3,  -7,   4,  -6,   3,   8,  -6,  -9,  -7,   7,   2,   8,   3,\n         0,   7,   1,  -9,  -4,   5,   1,   4, -10,   4,  -3,  -9,   8,\n        -4,   1,   0, -10,   7,  -1,   0,   6,   0,   7,  -8,   7,   6,\n         3,   3,  -9,   0,   8,  -5,  -6,   0,  -5])"
     },
     "execution_count": 3,
     "metadata": {},
     "output_type": "execute_result"
    }
   ],
   "source": [
    "x = npr.randint(-10, 10, size=100)\n",
    "x"
   ],
   "metadata": {
    "collapsed": false,
    "pycharm": {
     "name": "#%%\n"
    }
   }
  },
  {
   "cell_type": "code",
   "execution_count": 23,
   "outputs": [
    {
     "name": "stdout",
     "output_type": "stream",
     "text": [
      "[ 0 -4 -4 -4 -4 -4 -4 -2  0 -4  0 -4 -4  0 -4  0  0  0  0  0  0 -4 -2  0\n",
      " -4 -4 -3  0 -2  0 -4  0 -4 -3  0 -4  0  0  0  0  0 -4 -4 -3 -4 -4  0  0\n",
      "  0  0 -4  0 -3 -4  0 -4  0  0 -4 -4 -4  0  0  0  0  0  0  0 -4 -4  0  0\n",
      "  0 -4  0 -3 -4  0 -4  0  0 -4  0 -1  0  0  0  0 -4  0  0  0  0 -4  0  0\n",
      " -4 -4  0 -4]\n",
      "[1 0 0 0 0 0 0 0 0 0 0 0 0 2 0 1 4 6 3 1 1 0 0 5 0 0 0 1 0 0 0 3 0 0 5 0 9\n",
      " 0 5 3 0 0 0 0 0 0 0 0 2 6 0 1 0 0 4 0 3 8 0 0 0 7 2 8 3 0 7 1 0 0 5 1 4 0\n",
      " 4 0 0 8 0 1 0 0 7 0 0 6 0 7 0 7 6 3 3 0 0 8 0 0 0 0]\n"
     ]
    }
   ],
   "source": [
    "## clip is useful when we want to modify data for a certain range of values\n",
    "## numbers >= 0 are replaced by 0\n",
    "## <= -4 by -4\n",
    "## the ones that are the mean of 0 and -4 stay the same\n",
    "c = np.clip(x, -4, 0)\n",
    "print(c)\n",
    "## for instance, change negatives with 0\n",
    "print(x.clip(0))\n"
   ],
   "metadata": {
    "collapsed": false,
    "pycharm": {
     "name": "#%%\n"
    }
   }
  }
 ],
 "metadata": {
  "kernelspec": {
   "display_name": "Python 3",
   "language": "python",
   "name": "python3"
  },
  "language_info": {
   "codemirror_mode": {
    "name": "ipython",
    "version": 2
   },
   "file_extension": ".py",
   "mimetype": "text/x-python",
   "name": "python",
   "nbconvert_exporter": "python",
   "pygments_lexer": "ipython2",
   "version": "2.7.6"
  }
 },
 "nbformat": 4,
 "nbformat_minor": 0
}