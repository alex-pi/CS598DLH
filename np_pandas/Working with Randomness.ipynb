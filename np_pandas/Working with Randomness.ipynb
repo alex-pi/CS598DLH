{
 "cells": [
  {
   "cell_type": "code",
   "execution_count": 1,
   "metadata": {
    "collapsed": true
   },
   "outputs": [],
   "source": [
    "import numpy as np\n",
    "import numpy.random as npr\n",
    "import matplotlib.pyplot as plt"
   ]
  },
  {
   "cell_type": "code",
   "execution_count": 4,
   "outputs": [
    {
     "name": "stdout",
     "output_type": "stream",
     "text": [
      "   0.0049445659\n",
      "   1.0117793561\n"
     ]
    }
   ],
   "source": [
    "x = npr.standard_normal(10000)\n",
    "print('{:15.10f}'.format(x.mean()))\n",
    "print('{:15.10f}'.format(x.std()))"
   ],
   "metadata": {
    "collapsed": false,
    "pycharm": {
     "name": "#%%\n"
    }
   }
  },
  {
   "cell_type": "code",
   "execution_count": 5,
   "outputs": [
    {
     "data": {
      "text/plain": "(array([  1.,   2.,   0.,   1.,   3.,   6.,   7.,  11.,  32.,  33.,  63.,\n         85., 116., 156., 219., 254., 313., 371., 506., 518., 555., 607.,\n        631., 673., 681., 584., 629., 519., 456., 435., 349., 298., 230.,\n        193., 130., 106.,  68.,  61.,  28.,  22.,  20.,  11.,  10.,   4.,\n          1.,   0.,   0.,   0.,   1.,   1.]),\n array([-3.97046319, -3.80339468, -3.63632618, -3.46925768, -3.30218917,\n        -3.13512067, -2.96805217, -2.80098366, -2.63391516, -2.46684666,\n        -2.29977816, -2.13270965, -1.96564115, -1.79857265, -1.63150414,\n        -1.46443564, -1.29736714, -1.13029863, -0.96323013, -0.79616163,\n        -0.62909312, -0.46202462, -0.29495612, -0.12788761,  0.03918089,\n         0.20624939,  0.3733179 ,  0.5403864 ,  0.7074549 ,  0.87452341,\n         1.04159191,  1.20866041,  1.37572891,  1.54279742,  1.70986592,\n         1.87693442,  2.04400293,  2.21107143,  2.37813993,  2.54520844,\n         2.71227694,  2.87934544,  3.04641395,  3.21348245,  3.38055095,\n         3.54761946,  3.71468796,  3.88175646,  4.04882497,  4.21589347,\n         4.38296197]),\n <a list of 50 Patch objects>)"
     },
     "execution_count": 5,
     "metadata": {},
     "output_type": "execute_result"
    },
    {
     "data": {
      "text/plain": "<Figure size 432x288 with 1 Axes>",
      "image/png": "[encoded data removed]"
     },
     "metadata": {
      "needs_background": "light"
     },
     "output_type": "display_data"
    }
   ],
   "source": [
    "## It resembles a normal distribution\n",
    "## If we sample more, say 1000000, we still have some over representations\n",
    "## in the histogram\n",
    "plt.hist(x, bins=50)\n"
   ],
   "metadata": {
    "collapsed": false,
    "pycharm": {
     "name": "#%%\n"
    }
   }
  },
  {
   "cell_type": "code",
   "execution_count": 9,
   "outputs": [
    {
     "name": "stdout",
     "output_type": "stream",
     "text": [
      "(20000,)\n",
      "  -0.0000000000\n",
      "   1.0117914381\n"
     ]
    },
    {
     "data": {
      "text/plain": "(array([1.000e+00, 1.000e+00, 1.000e+00, 1.000e+00, 1.000e+00, 2.000e+00,\n        9.000e+00, 1.700e+01, 1.800e+01, 4.200e+01, 5.400e+01, 8.100e+01,\n        1.400e+02, 1.870e+02, 2.720e+02, 3.680e+02, 4.890e+02, 5.620e+02,\n        7.520e+02, 8.890e+02, 1.014e+03, 1.130e+03, 1.259e+03, 1.273e+03,\n        1.437e+03, 1.437e+03, 1.273e+03, 1.259e+03, 1.130e+03, 1.014e+03,\n        8.890e+02, 7.520e+02, 5.620e+02, 4.890e+02, 3.680e+02, 2.720e+02,\n        1.870e+02, 1.400e+02, 8.100e+01, 5.400e+01, 4.200e+01, 1.800e+01,\n        1.700e+01, 9.000e+00, 2.000e+00, 1.000e+00, 1.000e+00, 1.000e+00,\n        1.000e+00, 1.000e+00]),\n array([-4.38296197, -4.20764349, -4.03232501, -3.85700654, -3.68168806,\n        -3.50636958, -3.3310511 , -3.15573262, -2.98041414, -2.80509566,\n        -2.62977718, -2.4544587 , -2.27914023, -2.10382175, -1.92850327,\n        -1.75318479, -1.57786631, -1.40254783, -1.22722935, -1.05191087,\n        -0.87659239, -0.70127392, -0.52595544, -0.35063696, -0.17531848,\n         0.        ,  0.17531848,  0.35063696,  0.52595544,  0.70127392,\n         0.87659239,  1.05191087,  1.22722935,  1.40254783,  1.57786631,\n         1.75318479,  1.92850327,  2.10382175,  2.27914023,  2.4544587 ,\n         2.62977718,  2.80509566,  2.98041414,  3.15573262,  3.3310511 ,\n         3.50636958,  3.68168806,  3.85700654,  4.03232501,  4.20764349,\n         4.38296197]),\n <a list of 50 Patch objects>)"
     },
     "execution_count": 9,
     "metadata": {},
     "output_type": "execute_result"
    },
    {
     "data": {
      "text/plain": "<Figure size 432x288 with 1 Axes>",
      "image/png": "[encoded data removed]"
     },
     "metadata": {
      "needs_background": "light"
     },
     "output_type": "display_data"
    }
   ],
   "source": [
    "## we concatenate the negative version of all 10000 elements, then the mean will be 0\n",
    "y = np.concatenate([x ,-x])\n",
    "print(y.shape)\n",
    "print('{:15.10f}'.format(y.mean()))\n",
    "print('{:15.10f}'.format(y.std()))\n",
    "plt.hist(y, bins=50)"
   ],
   "metadata": {
    "collapsed": false,
    "pycharm": {
     "name": "#%%\n"
    }
   }
  },
  {
   "cell_type": "code",
   "execution_count": 11,
   "outputs": [
    {
     "name": "stdout",
     "output_type": "stream",
     "text": [
      "   0.0000000000\n",
      "   1.0000000000\n"
     ]
    },
    {
     "data": {
      "text/plain": "(array([1.000e+00, 1.000e+00, 1.000e+00, 1.000e+00, 1.000e+00, 2.000e+00,\n        9.000e+00, 1.700e+01, 1.800e+01, 4.200e+01, 5.400e+01, 8.100e+01,\n        1.400e+02, 1.870e+02, 2.720e+02, 3.680e+02, 4.890e+02, 5.620e+02,\n        7.520e+02, 8.890e+02, 1.014e+03, 1.130e+03, 1.259e+03, 1.273e+03,\n        1.437e+03, 1.437e+03, 1.273e+03, 1.259e+03, 1.130e+03, 1.014e+03,\n        8.890e+02, 7.520e+02, 5.620e+02, 4.890e+02, 3.680e+02, 2.720e+02,\n        1.870e+02, 1.400e+02, 8.100e+01, 5.400e+01, 4.200e+01, 1.800e+01,\n        1.700e+01, 9.000e+00, 2.000e+00, 1.000e+00, 1.000e+00, 1.000e+00,\n        1.000e+00, 1.000e+00]),\n array([-4.33188284, -4.15860753, -3.98533222, -3.8120569 , -3.63878159,\n        -3.46550627, -3.29223096, -3.11895565, -2.94568033, -2.77240502,\n        -2.59912971, -2.42585439, -2.25257908, -2.07930376, -1.90602845,\n        -1.73275314, -1.55947782, -1.38620251, -1.2129272 , -1.03965188,\n        -0.86637657, -0.69310125, -0.51982594, -0.34655063, -0.17327531,\n         0.        ,  0.17327531,  0.34655063,  0.51982594,  0.69310125,\n         0.86637657,  1.03965188,  1.2129272 ,  1.38620251,  1.55947782,\n         1.73275314,  1.90602845,  2.07930376,  2.25257908,  2.42585439,\n         2.59912971,  2.77240502,  2.94568033,  3.11895565,  3.29223096,\n         3.46550627,  3.63878159,  3.8120569 ,  3.98533222,  4.15860753,\n         4.33188284]),\n <a list of 50 Patch objects>)"
     },
     "execution_count": 11,
     "metadata": {},
     "output_type": "execute_result"
    },
    {
     "data": {
      "text/plain": "<Figure size 432x288 with 1 Axes>",
      "image/png": "[encoded data removed]"
     },
     "metadata": {
      "needs_background": "light"
     },
     "output_type": "display_data"
    }
   ],
   "source": [
    "## normalizing the date gets us a standard deviation of 1\n",
    "## now mean is 0 and std is 1\n",
    "z = (y-y.mean()) / y.std()\n",
    "print('{:15.10f}'.format(z.mean()))\n",
    "print('{:15.10f}'.format(z.std()))\n",
    "plt.hist(z, bins=50)"
   ],
   "metadata": {
    "collapsed": false,
    "pycharm": {
     "name": "#%%\n"
    }
   }
  },
  {
   "cell_type": "code",
   "execution_count": 28,
   "outputs": [
    {
     "data": {
      "text/plain": "array([0.60754485, 0.17052412, 0.06505159, 0.94888554, 0.96563203,\n       0.80839735, 0.30461377, 0.09767211, 0.68423303, 0.44015249])"
     },
     "execution_count": 28,
     "metadata": {},
     "output_type": "execute_result"
    }
   ],
   "source": [
    "c = npr.random(10)\n",
    "## the sample changes every time\n",
    "c"
   ],
   "metadata": {
    "collapsed": false,
    "pycharm": {
     "name": "#%%\n"
    }
   }
  },
  {
   "cell_type": "code",
   "execution_count": 32,
   "outputs": [
    {
     "data": {
      "text/plain": "array([0.37454012, 0.95071431, 0.73199394, 0.59865848, 0.15601864,\n       0.15599452, 0.05808361, 0.86617615, 0.60111501, 0.70807258])"
     },
     "execution_count": 32,
     "metadata": {},
     "output_type": "execute_result"
    }
   ],
   "source": [
    "## setting a seed gets a stable sample set (the same every time)\n",
    "npr.seed(42)\n",
    "d = npr.random(10)\n",
    "d\n"
   ],
   "metadata": {
    "collapsed": false,
    "pycharm": {
     "name": "#%%\n"
    }
   }
  }
 ],
 "metadata": {
  "kernelspec": {
   "display_name": "Python 3",
   "language": "python",
   "name": "python3"
  },
  "language_info": {
   "codemirror_mode": {
    "name": "ipython",
    "version": 2
   },
   "file_extension": ".py",
   "mimetype": "text/x-python",
   "name": "python",
   "nbconvert_exporter": "python",
   "pygments_lexer": "ipython2",
   "version": "2.7.6"
  }
 },
 "nbformat": 4,
 "nbformat_minor": 0
}